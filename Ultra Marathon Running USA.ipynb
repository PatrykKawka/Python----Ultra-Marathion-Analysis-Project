{
 "cells": [
  {
   "cell_type": "code",
   "execution_count": 238,
   "metadata": {},
   "outputs": [
    {
     "name": "stderr",
     "output_type": "stream",
     "text": [
      "C:\\Users\\pkawk\\AppData\\Local\\Temp\\ipykernel_7228\\2178545510.py:3: DtypeWarning: Columns (11) have mixed types. Specify dtype option on import or set low_memory=False.\n",
      "  df = pd.read_csv(r\"C:\\Users\\pkawk\\OneDrive\\Pulpit\\Git hub\\Ultra Marathon Running - Python\\TWO_CENTURIES_OF_UM_RACES.csv\")\n"
     ]
    }
   ],
   "source": [
    "import pandas as pd\n",
    "import seaborn as sns\n",
    "df = pd.read_csv(r\"C:\\Users\\pkawk\\OneDrive\\Pulpit\\Git hub\\Ultra Marathon Running - Python\\TWO_CENTURIES_OF_UM_RACES.csv\")\n",
    "pd.set_option('display.max.columns', None)"
   ]
  },
  {
   "cell_type": "code",
   "execution_count": null,
   "metadata": {},
   "outputs": [
    {
     "data": {
      "text/html": [
       "<div>\n",
       "<style scoped>\n",
       "    .dataframe tbody tr th:only-of-type {\n",
       "        vertical-align: middle;\n",
       "    }\n",
       "\n",
       "    .dataframe tbody tr th {\n",
       "        vertical-align: top;\n",
       "    }\n",
       "\n",
       "    .dataframe thead th {\n",
       "        text-align: right;\n",
       "    }\n",
       "</style>\n",
       "<table border=\"1\" class=\"dataframe\">\n",
       "  <thead>\n",
       "    <tr style=\"text-align: right;\">\n",
       "      <th></th>\n",
       "      <th>Year of event</th>\n",
       "      <th>Event dates</th>\n",
       "      <th>Event name</th>\n",
       "      <th>Event distance/length</th>\n",
       "      <th>Event number of finishers</th>\n",
       "      <th>Athlete performance</th>\n",
       "      <th>Athlete club</th>\n",
       "      <th>Athlete country</th>\n",
       "      <th>Athlete year of birth</th>\n",
       "      <th>Athlete gender</th>\n",
       "      <th>Athlete age category</th>\n",
       "      <th>Athlete average speed</th>\n",
       "      <th>Athlete ID</th>\n",
       "    </tr>\n",
       "  </thead>\n",
       "  <tbody>\n",
       "    <tr>\n",
       "      <th>0</th>\n",
       "      <td>2018</td>\n",
       "      <td>06.01.2018</td>\n",
       "      <td>Selva Costera (CHI)</td>\n",
       "      <td>50km</td>\n",
       "      <td>22</td>\n",
       "      <td>4:51:39 h</td>\n",
       "      <td>Tnfrc</td>\n",
       "      <td>CHI</td>\n",
       "      <td>1978.0</td>\n",
       "      <td>M</td>\n",
       "      <td>M35</td>\n",
       "      <td>10.286</td>\n",
       "      <td>0</td>\n",
       "    </tr>\n",
       "    <tr>\n",
       "      <th>1</th>\n",
       "      <td>2018</td>\n",
       "      <td>06.01.2018</td>\n",
       "      <td>Selva Costera (CHI)</td>\n",
       "      <td>50km</td>\n",
       "      <td>22</td>\n",
       "      <td>5:15:45 h</td>\n",
       "      <td>Roberto Echeverría</td>\n",
       "      <td>CHI</td>\n",
       "      <td>1981.0</td>\n",
       "      <td>M</td>\n",
       "      <td>M35</td>\n",
       "      <td>9.501</td>\n",
       "      <td>1</td>\n",
       "    </tr>\n",
       "    <tr>\n",
       "      <th>2</th>\n",
       "      <td>2018</td>\n",
       "      <td>06.01.2018</td>\n",
       "      <td>Selva Costera (CHI)</td>\n",
       "      <td>50km</td>\n",
       "      <td>22</td>\n",
       "      <td>5:16:44 h</td>\n",
       "      <td>Puro Trail Osorno</td>\n",
       "      <td>CHI</td>\n",
       "      <td>1987.0</td>\n",
       "      <td>M</td>\n",
       "      <td>M23</td>\n",
       "      <td>9.472</td>\n",
       "      <td>2</td>\n",
       "    </tr>\n",
       "    <tr>\n",
       "      <th>3</th>\n",
       "      <td>2018</td>\n",
       "      <td>06.01.2018</td>\n",
       "      <td>Selva Costera (CHI)</td>\n",
       "      <td>50km</td>\n",
       "      <td>22</td>\n",
       "      <td>5:34:13 h</td>\n",
       "      <td>Columbia</td>\n",
       "      <td>ARG</td>\n",
       "      <td>1976.0</td>\n",
       "      <td>M</td>\n",
       "      <td>M40</td>\n",
       "      <td>8.976</td>\n",
       "      <td>3</td>\n",
       "    </tr>\n",
       "    <tr>\n",
       "      <th>4</th>\n",
       "      <td>2018</td>\n",
       "      <td>06.01.2018</td>\n",
       "      <td>Selva Costera (CHI)</td>\n",
       "      <td>50km</td>\n",
       "      <td>22</td>\n",
       "      <td>5:54:14 h</td>\n",
       "      <td>Baguales Trail</td>\n",
       "      <td>CHI</td>\n",
       "      <td>1992.0</td>\n",
       "      <td>M</td>\n",
       "      <td>M23</td>\n",
       "      <td>8.469</td>\n",
       "      <td>4</td>\n",
       "    </tr>\n",
       "  </tbody>\n",
       "</table>\n",
       "</div>"
      ],
      "text/plain": [
       "   Year of event Event dates           Event name Event distance/length  \\\n",
       "0           2018  06.01.2018  Selva Costera (CHI)                  50km   \n",
       "1           2018  06.01.2018  Selva Costera (CHI)                  50km   \n",
       "2           2018  06.01.2018  Selva Costera (CHI)                  50km   \n",
       "3           2018  06.01.2018  Selva Costera (CHI)                  50km   \n",
       "4           2018  06.01.2018  Selva Costera (CHI)                  50km   \n",
       "\n",
       "   Event number of finishers Athlete performance        Athlete club  \\\n",
       "0                         22           4:51:39 h               Tnfrc   \n",
       "1                         22           5:15:45 h  Roberto Echeverría   \n",
       "2                         22           5:16:44 h   Puro Trail Osorno   \n",
       "3                         22           5:34:13 h            Columbia   \n",
       "4                         22           5:54:14 h      Baguales Trail   \n",
       "\n",
       "  Athlete country  Athlete year of birth Athlete gender Athlete age category  \\\n",
       "0             CHI                 1978.0              M                  M35   \n",
       "1             CHI                 1981.0              M                  M35   \n",
       "2             CHI                 1987.0              M                  M23   \n",
       "3             ARG                 1976.0              M                  M40   \n",
       "4             CHI                 1992.0              M                  M23   \n",
       "\n",
       "  Athlete average speed  Athlete ID  \n",
       "0                10.286           0  \n",
       "1                 9.501           1  \n",
       "2                 9.472           2  \n",
       "3                 8.976           3  \n",
       "4                 8.469           4  "
      ]
     },
     "metadata": {},
     "output_type": "display_data"
    },
    {
     "data": {
      "text/html": [
       "<div>\n",
       "<style scoped>\n",
       "    .dataframe tbody tr th:only-of-type {\n",
       "        vertical-align: middle;\n",
       "    }\n",
       "\n",
       "    .dataframe tbody tr th {\n",
       "        vertical-align: top;\n",
       "    }\n",
       "\n",
       "    .dataframe thead th {\n",
       "        text-align: right;\n",
       "    }\n",
       "</style>\n",
       "<table border=\"1\" class=\"dataframe\">\n",
       "  <thead>\n",
       "    <tr style=\"text-align: right;\">\n",
       "      <th></th>\n",
       "      <th>Year of event</th>\n",
       "      <th>Event dates</th>\n",
       "      <th>Event name</th>\n",
       "      <th>Event distance/length</th>\n",
       "      <th>Event number of finishers</th>\n",
       "      <th>Athlete performance</th>\n",
       "      <th>Athlete club</th>\n",
       "      <th>Athlete country</th>\n",
       "      <th>Athlete year of birth</th>\n",
       "      <th>Athlete gender</th>\n",
       "      <th>Athlete age category</th>\n",
       "      <th>Athlete average speed</th>\n",
       "      <th>Athlete ID</th>\n",
       "    </tr>\n",
       "  </thead>\n",
       "  <tbody>\n",
       "    <tr>\n",
       "      <th>7461190</th>\n",
       "      <td>1995</td>\n",
       "      <td>00.00.1995</td>\n",
       "      <td>La SainteLyon 65 km (FRA)</td>\n",
       "      <td>65km</td>\n",
       "      <td>2</td>\n",
       "      <td>4:33:20 h</td>\n",
       "      <td>NaN</td>\n",
       "      <td>FRA</td>\n",
       "      <td>NaN</td>\n",
       "      <td>M</td>\n",
       "      <td>NaN</td>\n",
       "      <td>14268.0</td>\n",
       "      <td>1151060</td>\n",
       "    </tr>\n",
       "    <tr>\n",
       "      <th>7461191</th>\n",
       "      <td>1995</td>\n",
       "      <td>00.00.1995</td>\n",
       "      <td>La SainteLyon 65 km (FRA)</td>\n",
       "      <td>65km</td>\n",
       "      <td>2</td>\n",
       "      <td>6:05:15 h</td>\n",
       "      <td>NaN</td>\n",
       "      <td>FRA</td>\n",
       "      <td>NaN</td>\n",
       "      <td>F</td>\n",
       "      <td>NaN</td>\n",
       "      <td>10678.0</td>\n",
       "      <td>1073520</td>\n",
       "    </tr>\n",
       "    <tr>\n",
       "      <th>7461192</th>\n",
       "      <td>1995</td>\n",
       "      <td>00.00.1995</td>\n",
       "      <td>Szombathely 24 hours running Race  (HUN)</td>\n",
       "      <td>24h</td>\n",
       "      <td>3</td>\n",
       "      <td>241.000 km</td>\n",
       "      <td>*Budapest</td>\n",
       "      <td>HUN</td>\n",
       "      <td>1950.0</td>\n",
       "      <td>M</td>\n",
       "      <td>M40</td>\n",
       "      <td>10042.0</td>\n",
       "      <td>1047373</td>\n",
       "    </tr>\n",
       "    <tr>\n",
       "      <th>7461193</th>\n",
       "      <td>1995</td>\n",
       "      <td>00.00.1995</td>\n",
       "      <td>Szombathely 24 hours running Race  (HUN)</td>\n",
       "      <td>24h</td>\n",
       "      <td>3</td>\n",
       "      <td>228.000 km</td>\n",
       "      <td>*Szeged</td>\n",
       "      <td>HUN</td>\n",
       "      <td>1959.0</td>\n",
       "      <td>M</td>\n",
       "      <td>M35</td>\n",
       "      <td>9500.0</td>\n",
       "      <td>380150</td>\n",
       "    </tr>\n",
       "    <tr>\n",
       "      <th>7461194</th>\n",
       "      <td>1995</td>\n",
       "      <td>00.00.1995</td>\n",
       "      <td>Szombathely 24 hours running Race  (HUN)</td>\n",
       "      <td>24h</td>\n",
       "      <td>3</td>\n",
       "      <td>224.000 km</td>\n",
       "      <td>*Pecs</td>\n",
       "      <td>HUN</td>\n",
       "      <td>1958.0</td>\n",
       "      <td>M</td>\n",
       "      <td>M35</td>\n",
       "      <td>9333.0</td>\n",
       "      <td>1070482</td>\n",
       "    </tr>\n",
       "  </tbody>\n",
       "</table>\n",
       "</div>"
      ],
      "text/plain": [
       "         Year of event Event dates                                Event name  \\\n",
       "7461190           1995  00.00.1995                 La SainteLyon 65 km (FRA)   \n",
       "7461191           1995  00.00.1995                 La SainteLyon 65 km (FRA)   \n",
       "7461192           1995  00.00.1995  Szombathely 24 hours running Race  (HUN)   \n",
       "7461193           1995  00.00.1995  Szombathely 24 hours running Race  (HUN)   \n",
       "7461194           1995  00.00.1995  Szombathely 24 hours running Race  (HUN)   \n",
       "\n",
       "        Event distance/length  Event number of finishers Athlete performance  \\\n",
       "7461190                  65km                          2           4:33:20 h   \n",
       "7461191                  65km                          2           6:05:15 h   \n",
       "7461192                   24h                          3          241.000 km   \n",
       "7461193                   24h                          3          228.000 km   \n",
       "7461194                   24h                          3          224.000 km   \n",
       "\n",
       "        Athlete club Athlete country  Athlete year of birth Athlete gender  \\\n",
       "7461190          NaN             FRA                    NaN              M   \n",
       "7461191          NaN             FRA                    NaN              F   \n",
       "7461192    *Budapest             HUN                 1950.0              M   \n",
       "7461193      *Szeged             HUN                 1959.0              M   \n",
       "7461194        *Pecs             HUN                 1958.0              M   \n",
       "\n",
       "        Athlete age category Athlete average speed  Athlete ID  \n",
       "7461190                  NaN               14268.0     1151060  \n",
       "7461191                  NaN               10678.0     1073520  \n",
       "7461192                  M40               10042.0     1047373  \n",
       "7461193                  M35                9500.0      380150  \n",
       "7461194                  M35                9333.0     1070482  "
      ]
     },
     "execution_count": 208,
     "metadata": {},
     "output_type": "execute_result"
    }
   ],
   "source": [
    "pd.set_option('display.max.columns', None)\n",
    "display(df.head())\n",
    "df.tail()"
   ]
  },
  {
   "cell_type": "code",
   "execution_count": null,
   "metadata": {},
   "outputs": [
    {
     "name": "stdout",
     "output_type": "stream",
     "text": [
      "Liczba wierszy w tabeli to: 7461195 natomiast liczba kolumn to: 13 .\n"
     ]
    }
   ],
   "source": [
    "print('Liczba wierszy w tabeli to:',df.shape[0],'natomiast liczba kolumn to:',df.shape[1],'.')"
   ]
  },
  {
   "cell_type": "code",
   "execution_count": null,
   "metadata": {},
   "outputs": [
    {
     "name": "stdout",
     "output_type": "stream",
     "text": [
      "<class 'pandas.core.frame.DataFrame'>\n",
      "RangeIndex: 7461195 entries, 0 to 7461194\n",
      "Data columns (total 13 columns):\n",
      " #   Column                     Dtype  \n",
      "---  ------                     -----  \n",
      " 0   Year of event              int64  \n",
      " 1   Event dates                object \n",
      " 2   Event name                 object \n",
      " 3   Event distance/length      object \n",
      " 4   Event number of finishers  int64  \n",
      " 5   Athlete performance        object \n",
      " 6   Athlete club               object \n",
      " 7   Athlete country            object \n",
      " 8   Athlete year of birth      float64\n",
      " 9   Athlete gender             object \n",
      " 10  Athlete age category       object \n",
      " 11  Athlete average speed      object \n",
      " 12  Athlete ID                 int64  \n",
      "dtypes: float64(1), int64(3), object(9)\n",
      "memory usage: 740.0+ MB\n"
     ]
    }
   ],
   "source": [
    "df.info()"
   ]
  },
  {
   "cell_type": "code",
   "execution_count": null,
   "metadata": {},
   "outputs": [
    {
     "name": "stdout",
     "output_type": "stream",
     "text": [
      "Liczba zduplikowanych wierszy to:  50\n"
     ]
    }
   ],
   "source": [
    "print('Liczba zduplikowanych wierszy to: ',df.duplicated().sum() )"
   ]
  },
  {
   "cell_type": "code",
   "execution_count": null,
   "metadata": {},
   "outputs": [
    {
     "data": {
      "text/html": [
       "<div>\n",
       "<style scoped>\n",
       "    .dataframe tbody tr th:only-of-type {\n",
       "        vertical-align: middle;\n",
       "    }\n",
       "\n",
       "    .dataframe tbody tr th {\n",
       "        vertical-align: top;\n",
       "    }\n",
       "\n",
       "    .dataframe thead th {\n",
       "        text-align: right;\n",
       "    }\n",
       "</style>\n",
       "<table border=\"1\" class=\"dataframe\">\n",
       "  <thead>\n",
       "    <tr style=\"text-align: right;\">\n",
       "      <th></th>\n",
       "      <th>Year of event</th>\n",
       "      <th>Event dates</th>\n",
       "      <th>Event name</th>\n",
       "      <th>Event distance/length</th>\n",
       "      <th>Event number of finishers</th>\n",
       "      <th>Athlete performance</th>\n",
       "      <th>Athlete club</th>\n",
       "      <th>Athlete country</th>\n",
       "      <th>Athlete year of birth</th>\n",
       "      <th>Athlete gender</th>\n",
       "      <th>Athlete age category</th>\n",
       "      <th>Athlete average speed</th>\n",
       "      <th>Athlete ID</th>\n",
       "    </tr>\n",
       "  </thead>\n",
       "  <tbody>\n",
       "    <tr>\n",
       "      <th>0</th>\n",
       "      <td>2018</td>\n",
       "      <td>06.01.2018</td>\n",
       "      <td>Selva Costera (CHI)</td>\n",
       "      <td>50km</td>\n",
       "      <td>22</td>\n",
       "      <td>4:51:39 h</td>\n",
       "      <td>Tnfrc</td>\n",
       "      <td>CHI</td>\n",
       "      <td>1978.0</td>\n",
       "      <td>M</td>\n",
       "      <td>M35</td>\n",
       "      <td>10.286</td>\n",
       "      <td>0</td>\n",
       "    </tr>\n",
       "    <tr>\n",
       "      <th>1</th>\n",
       "      <td>2018</td>\n",
       "      <td>06.01.2018</td>\n",
       "      <td>Selva Costera (CHI)</td>\n",
       "      <td>50km</td>\n",
       "      <td>22</td>\n",
       "      <td>5:15:45 h</td>\n",
       "      <td>Roberto Echeverría</td>\n",
       "      <td>CHI</td>\n",
       "      <td>1981.0</td>\n",
       "      <td>M</td>\n",
       "      <td>M35</td>\n",
       "      <td>9.501</td>\n",
       "      <td>1</td>\n",
       "    </tr>\n",
       "    <tr>\n",
       "      <th>2</th>\n",
       "      <td>2018</td>\n",
       "      <td>06.01.2018</td>\n",
       "      <td>Selva Costera (CHI)</td>\n",
       "      <td>50km</td>\n",
       "      <td>22</td>\n",
       "      <td>5:16:44 h</td>\n",
       "      <td>Puro Trail Osorno</td>\n",
       "      <td>CHI</td>\n",
       "      <td>1987.0</td>\n",
       "      <td>M</td>\n",
       "      <td>M23</td>\n",
       "      <td>9.472</td>\n",
       "      <td>2</td>\n",
       "    </tr>\n",
       "    <tr>\n",
       "      <th>3</th>\n",
       "      <td>2018</td>\n",
       "      <td>06.01.2018</td>\n",
       "      <td>Selva Costera (CHI)</td>\n",
       "      <td>50km</td>\n",
       "      <td>22</td>\n",
       "      <td>5:34:13 h</td>\n",
       "      <td>Columbia</td>\n",
       "      <td>ARG</td>\n",
       "      <td>1976.0</td>\n",
       "      <td>M</td>\n",
       "      <td>M40</td>\n",
       "      <td>8.976</td>\n",
       "      <td>3</td>\n",
       "    </tr>\n",
       "    <tr>\n",
       "      <th>4</th>\n",
       "      <td>2018</td>\n",
       "      <td>06.01.2018</td>\n",
       "      <td>Selva Costera (CHI)</td>\n",
       "      <td>50km</td>\n",
       "      <td>22</td>\n",
       "      <td>5:54:14 h</td>\n",
       "      <td>Baguales Trail</td>\n",
       "      <td>CHI</td>\n",
       "      <td>1992.0</td>\n",
       "      <td>M</td>\n",
       "      <td>M23</td>\n",
       "      <td>8.469</td>\n",
       "      <td>4</td>\n",
       "    </tr>\n",
       "    <tr>\n",
       "      <th>...</th>\n",
       "      <td>...</td>\n",
       "      <td>...</td>\n",
       "      <td>...</td>\n",
       "      <td>...</td>\n",
       "      <td>...</td>\n",
       "      <td>...</td>\n",
       "      <td>...</td>\n",
       "      <td>...</td>\n",
       "      <td>...</td>\n",
       "      <td>...</td>\n",
       "      <td>...</td>\n",
       "      <td>...</td>\n",
       "      <td>...</td>\n",
       "    </tr>\n",
       "    <tr>\n",
       "      <th>7461190</th>\n",
       "      <td>1995</td>\n",
       "      <td>00.00.1995</td>\n",
       "      <td>La SainteLyon 65 km (FRA)</td>\n",
       "      <td>65km</td>\n",
       "      <td>2</td>\n",
       "      <td>4:33:20 h</td>\n",
       "      <td>NaN</td>\n",
       "      <td>FRA</td>\n",
       "      <td>NaN</td>\n",
       "      <td>M</td>\n",
       "      <td>NaN</td>\n",
       "      <td>14268.0</td>\n",
       "      <td>1151060</td>\n",
       "    </tr>\n",
       "    <tr>\n",
       "      <th>7461191</th>\n",
       "      <td>1995</td>\n",
       "      <td>00.00.1995</td>\n",
       "      <td>La SainteLyon 65 km (FRA)</td>\n",
       "      <td>65km</td>\n",
       "      <td>2</td>\n",
       "      <td>6:05:15 h</td>\n",
       "      <td>NaN</td>\n",
       "      <td>FRA</td>\n",
       "      <td>NaN</td>\n",
       "      <td>F</td>\n",
       "      <td>NaN</td>\n",
       "      <td>10678.0</td>\n",
       "      <td>1073520</td>\n",
       "    </tr>\n",
       "    <tr>\n",
       "      <th>7461192</th>\n",
       "      <td>1995</td>\n",
       "      <td>00.00.1995</td>\n",
       "      <td>Szombathely 24 hours running Race  (HUN)</td>\n",
       "      <td>24h</td>\n",
       "      <td>3</td>\n",
       "      <td>241.000 km</td>\n",
       "      <td>*Budapest</td>\n",
       "      <td>HUN</td>\n",
       "      <td>1950.0</td>\n",
       "      <td>M</td>\n",
       "      <td>M40</td>\n",
       "      <td>10042.0</td>\n",
       "      <td>1047373</td>\n",
       "    </tr>\n",
       "    <tr>\n",
       "      <th>7461193</th>\n",
       "      <td>1995</td>\n",
       "      <td>00.00.1995</td>\n",
       "      <td>Szombathely 24 hours running Race  (HUN)</td>\n",
       "      <td>24h</td>\n",
       "      <td>3</td>\n",
       "      <td>228.000 km</td>\n",
       "      <td>*Szeged</td>\n",
       "      <td>HUN</td>\n",
       "      <td>1959.0</td>\n",
       "      <td>M</td>\n",
       "      <td>M35</td>\n",
       "      <td>9500.0</td>\n",
       "      <td>380150</td>\n",
       "    </tr>\n",
       "    <tr>\n",
       "      <th>7461194</th>\n",
       "      <td>1995</td>\n",
       "      <td>00.00.1995</td>\n",
       "      <td>Szombathely 24 hours running Race  (HUN)</td>\n",
       "      <td>24h</td>\n",
       "      <td>3</td>\n",
       "      <td>224.000 km</td>\n",
       "      <td>*Pecs</td>\n",
       "      <td>HUN</td>\n",
       "      <td>1958.0</td>\n",
       "      <td>M</td>\n",
       "      <td>M35</td>\n",
       "      <td>9333.0</td>\n",
       "      <td>1070482</td>\n",
       "    </tr>\n",
       "  </tbody>\n",
       "</table>\n",
       "<p>7461145 rows × 13 columns</p>\n",
       "</div>"
      ],
      "text/plain": [
       "         Year of event Event dates                                Event name  \\\n",
       "0                 2018  06.01.2018                       Selva Costera (CHI)   \n",
       "1                 2018  06.01.2018                       Selva Costera (CHI)   \n",
       "2                 2018  06.01.2018                       Selva Costera (CHI)   \n",
       "3                 2018  06.01.2018                       Selva Costera (CHI)   \n",
       "4                 2018  06.01.2018                       Selva Costera (CHI)   \n",
       "...                ...         ...                                       ...   \n",
       "7461190           1995  00.00.1995                 La SainteLyon 65 km (FRA)   \n",
       "7461191           1995  00.00.1995                 La SainteLyon 65 km (FRA)   \n",
       "7461192           1995  00.00.1995  Szombathely 24 hours running Race  (HUN)   \n",
       "7461193           1995  00.00.1995  Szombathely 24 hours running Race  (HUN)   \n",
       "7461194           1995  00.00.1995  Szombathely 24 hours running Race  (HUN)   \n",
       "\n",
       "        Event distance/length  Event number of finishers Athlete performance  \\\n",
       "0                        50km                         22           4:51:39 h   \n",
       "1                        50km                         22           5:15:45 h   \n",
       "2                        50km                         22           5:16:44 h   \n",
       "3                        50km                         22           5:34:13 h   \n",
       "4                        50km                         22           5:54:14 h   \n",
       "...                       ...                        ...                 ...   \n",
       "7461190                  65km                          2           4:33:20 h   \n",
       "7461191                  65km                          2           6:05:15 h   \n",
       "7461192                   24h                          3          241.000 km   \n",
       "7461193                   24h                          3          228.000 km   \n",
       "7461194                   24h                          3          224.000 km   \n",
       "\n",
       "               Athlete club Athlete country  Athlete year of birth  \\\n",
       "0                     Tnfrc             CHI                 1978.0   \n",
       "1        Roberto Echeverría             CHI                 1981.0   \n",
       "2         Puro Trail Osorno             CHI                 1987.0   \n",
       "3                  Columbia             ARG                 1976.0   \n",
       "4            Baguales Trail             CHI                 1992.0   \n",
       "...                     ...             ...                    ...   \n",
       "7461190                 NaN             FRA                    NaN   \n",
       "7461191                 NaN             FRA                    NaN   \n",
       "7461192           *Budapest             HUN                 1950.0   \n",
       "7461193             *Szeged             HUN                 1959.0   \n",
       "7461194               *Pecs             HUN                 1958.0   \n",
       "\n",
       "        Athlete gender Athlete age category Athlete average speed  Athlete ID  \n",
       "0                    M                  M35                10.286           0  \n",
       "1                    M                  M35                 9.501           1  \n",
       "2                    M                  M23                 9.472           2  \n",
       "3                    M                  M40                 8.976           3  \n",
       "4                    M                  M23                 8.469           4  \n",
       "...                ...                  ...                   ...         ...  \n",
       "7461190              M                  NaN               14268.0     1151060  \n",
       "7461191              F                  NaN               10678.0     1073520  \n",
       "7461192              M                  M40               10042.0     1047373  \n",
       "7461193              M                  M35                9500.0      380150  \n",
       "7461194              M                  M35                9333.0     1070482  \n",
       "\n",
       "[7461145 rows x 13 columns]"
      ]
     },
     "execution_count": 212,
     "metadata": {},
     "output_type": "execute_result"
    }
   ],
   "source": [
    "df.drop_duplicates()"
   ]
  },
  {
   "cell_type": "code",
   "execution_count": null,
   "metadata": {},
   "outputs": [],
   "source": [
    "df['Athlete age'] = df['Year of event'] - df['Athlete year of birth']"
   ]
  },
  {
   "cell_type": "code",
   "execution_count": null,
   "metadata": {},
   "outputs": [
    {
     "data": {
      "text/plain": [
       "Year of event                      0\n",
       "Event dates                        0\n",
       "Event name                         0\n",
       "Event distance/length           1053\n",
       "Event number of finishers          0\n",
       "Athlete performance                2\n",
       "Athlete club                 2826524\n",
       "Athlete country                    3\n",
       "Athlete year of birth         588161\n",
       "Athlete gender                     7\n",
       "Athlete age category          584938\n",
       "Athlete average speed            224\n",
       "Athlete ID                         0\n",
       "Athlete age                   588161\n",
       "dtype: int64"
      ]
     },
     "execution_count": 214,
     "metadata": {},
     "output_type": "execute_result"
    }
   ],
   "source": [
    "df.isna().sum()"
   ]
  },
  {
   "cell_type": "code",
   "execution_count": null,
   "metadata": {},
   "outputs": [],
   "source": [
    "df.drop(columns=['Athlete club','Athlete age category', 'Event dates', 'Athlete year of birth', 'Event name'], inplace=True)"
   ]
  },
  {
   "cell_type": "code",
   "execution_count": null,
   "metadata": {},
   "outputs": [
    {
     "data": {
      "text/plain": [
       "Athlete country\n",
       "USA    1389960\n",
       "FRA    1170884\n",
       "RSA     877630\n",
       "JPN     603132\n",
       "GER     442056\n",
       "        ...   \n",
       "AHO          1\n",
       "SLE          1\n",
       "BAR          1\n",
       "TGA          1\n",
       "ACT          1\n",
       "Name: count, Length: 208, dtype: int64"
      ]
     },
     "execution_count": 216,
     "metadata": {},
     "output_type": "execute_result"
    }
   ],
   "source": [
    "df['Athlete country'].value_counts()"
   ]
  },
  {
   "cell_type": "code",
   "execution_count": null,
   "metadata": {},
   "outputs": [],
   "source": [
    "#Wybierzemy tylko i wyłacznie biegaczy pochodzących z USA, którzy przebiegli dystans 50 km oraz 50 mil od 2016 roku\n",
    "df_USA = df[(df['Athlete country'] == 'USA') & (df['Event distance/length'].isin(['50km','50mi', '100mi'])) & (df['Year of event'] >= 2016)          & ((df['Athlete gender'] == \"F\") | (df['Athlete gender'] == \"M\"))]"
   ]
  },
  {
   "cell_type": "code",
   "execution_count": null,
   "metadata": {},
   "outputs": [
    {
     "data": {
      "text/plain": [
       "Event distance/length\n",
       "50km     298498\n",
       "50mi      96685\n",
       "100mi     51936\n",
       "Name: count, dtype: int64"
      ]
     },
     "execution_count": 218,
     "metadata": {},
     "output_type": "execute_result"
    }
   ],
   "source": [
    "df_USA['Event distance/length'].value_counts()"
   ]
  },
  {
   "cell_type": "code",
   "execution_count": null,
   "metadata": {},
   "outputs": [],
   "source": [
    "df_USA.loc[df_USA['Event distance/length'].str.lower() == \"50mi\".lower(), 'Event distance/length'] = \"80km\"\n",
    "df_USA.loc[df_USA['Event distance/length'].str.lower() == \"100mi\".lower(), 'Event distance/length'] = \"160km\""
   ]
  },
  {
   "cell_type": "code",
   "execution_count": null,
   "metadata": {},
   "outputs": [],
   "source": [
    "df_USA.loc[:, 'Athlete performance'] = df_USA['Athlete performance'].str.split(' ').str.get(0)"
   ]
  },
  {
   "cell_type": "code",
   "execution_count": null,
   "metadata": {},
   "outputs": [
    {
     "data": {
      "text/html": [
       "<div>\n",
       "<style scoped>\n",
       "    .dataframe tbody tr th:only-of-type {\n",
       "        vertical-align: middle;\n",
       "    }\n",
       "\n",
       "    .dataframe tbody tr th {\n",
       "        vertical-align: top;\n",
       "    }\n",
       "\n",
       "    .dataframe thead th {\n",
       "        text-align: right;\n",
       "    }\n",
       "</style>\n",
       "<table border=\"1\" class=\"dataframe\">\n",
       "  <thead>\n",
       "    <tr style=\"text-align: right;\">\n",
       "      <th></th>\n",
       "      <th>Year of event</th>\n",
       "      <th>Event name</th>\n",
       "      <th>Event distance/length</th>\n",
       "      <th>Event number of finishers</th>\n",
       "      <th>Athlete performance</th>\n",
       "      <th>Athlete country</th>\n",
       "      <th>Athlete gender</th>\n",
       "      <th>Athlete average speed</th>\n",
       "      <th>Athlete ID</th>\n",
       "      <th>Athlete age</th>\n",
       "    </tr>\n",
       "  </thead>\n",
       "  <tbody>\n",
       "    <tr>\n",
       "      <th>55</th>\n",
       "      <td>2018</td>\n",
       "      <td>Yankee Springs 50 Mile Winter Challenge (USA)</td>\n",
       "      <td>80</td>\n",
       "      <td>9</td>\n",
       "      <td>9:53:05</td>\n",
       "      <td>USA</td>\n",
       "      <td>M</td>\n",
       "      <td>8.141</td>\n",
       "      <td>55</td>\n",
       "      <td>35.0</td>\n",
       "    </tr>\n",
       "    <tr>\n",
       "      <th>58</th>\n",
       "      <td>2018</td>\n",
       "      <td>Yankee Springs 50 Mile Winter Challenge (USA)</td>\n",
       "      <td>80</td>\n",
       "      <td>9</td>\n",
       "      <td>11:38:17</td>\n",
       "      <td>USA</td>\n",
       "      <td>M</td>\n",
       "      <td>6.914</td>\n",
       "      <td>58</td>\n",
       "      <td>32.0</td>\n",
       "    </tr>\n",
       "    <tr>\n",
       "      <th>59</th>\n",
       "      <td>2018</td>\n",
       "      <td>Yankee Springs 50 Mile Winter Challenge (USA)</td>\n",
       "      <td>80</td>\n",
       "      <td>9</td>\n",
       "      <td>11:56:35</td>\n",
       "      <td>USA</td>\n",
       "      <td>M</td>\n",
       "      <td>6.738</td>\n",
       "      <td>59</td>\n",
       "      <td>30.0</td>\n",
       "    </tr>\n",
       "    <tr>\n",
       "      <th>60</th>\n",
       "      <td>2018</td>\n",
       "      <td>Yankee Springs 50 Mile Winter Challenge (USA)</td>\n",
       "      <td>80</td>\n",
       "      <td>9</td>\n",
       "      <td>12:32:16</td>\n",
       "      <td>USA</td>\n",
       "      <td>M</td>\n",
       "      <td>6.418</td>\n",
       "      <td>60</td>\n",
       "      <td>23.0</td>\n",
       "    </tr>\n",
       "    <tr>\n",
       "      <th>61</th>\n",
       "      <td>2018</td>\n",
       "      <td>Yankee Springs 50 Mile Winter Challenge (USA)</td>\n",
       "      <td>80</td>\n",
       "      <td>9</td>\n",
       "      <td>12:39:36</td>\n",
       "      <td>USA</td>\n",
       "      <td>M</td>\n",
       "      <td>6.356</td>\n",
       "      <td>61</td>\n",
       "      <td>39.0</td>\n",
       "    </tr>\n",
       "  </tbody>\n",
       "</table>\n",
       "</div>"
      ],
      "text/plain": [
       "    Year of event                                     Event name  \\\n",
       "55           2018  Yankee Springs 50 Mile Winter Challenge (USA)   \n",
       "58           2018  Yankee Springs 50 Mile Winter Challenge (USA)   \n",
       "59           2018  Yankee Springs 50 Mile Winter Challenge (USA)   \n",
       "60           2018  Yankee Springs 50 Mile Winter Challenge (USA)   \n",
       "61           2018  Yankee Springs 50 Mile Winter Challenge (USA)   \n",
       "\n",
       "   Event distance/length  Event number of finishers Athlete performance  \\\n",
       "55                    80                          9             9:53:05   \n",
       "58                    80                          9            11:38:17   \n",
       "59                    80                          9            11:56:35   \n",
       "60                    80                          9            12:32:16   \n",
       "61                    80                          9            12:39:36   \n",
       "\n",
       "   Athlete country Athlete gender Athlete average speed  Athlete ID  \\\n",
       "55             USA              M                 8.141          55   \n",
       "58             USA              M                 6.914          58   \n",
       "59             USA              M                 6.738          59   \n",
       "60             USA              M                 6.418          60   \n",
       "61             USA              M                 6.356          61   \n",
       "\n",
       "    Athlete age  \n",
       "55         35.0  \n",
       "58         32.0  \n",
       "59         30.0  \n",
       "60         23.0  \n",
       "61         39.0  "
      ]
     },
     "execution_count": 221,
     "metadata": {},
     "output_type": "execute_result"
    }
   ],
   "source": [
    "df_USA.loc[:, 'Event distance/length'] = df_USA['Event distance/length'].str.split('km').str.get(0)\n",
    "df_USA.head()"
   ]
  },
  {
   "cell_type": "code",
   "execution_count": null,
   "metadata": {},
   "outputs": [
    {
     "name": "stderr",
     "output_type": "stream",
     "text": [
      "C:\\Users\\pkawk\\AppData\\Local\\Temp\\ipykernel_7228\\3739363762.py:1: SettingWithCopyWarning: \n",
      "A value is trying to be set on a copy of a slice from a DataFrame\n",
      "\n",
      "See the caveats in the documentation: https://pandas.pydata.org/pandas-docs/stable/user_guide/indexing.html#returning-a-view-versus-a-copy\n",
      "  df_USA.rename(columns={'Event distance/length': 'Event distance km'}, inplace = True)\n"
     ]
    }
   ],
   "source": [
    "df_USA.rename(columns={'Event distance/length': 'Event distance km'}, inplace = True)"
   ]
  },
  {
   "cell_type": "code",
   "execution_count": null,
   "metadata": {},
   "outputs": [
    {
     "data": {
      "text/plain": [
       "Year of event                   0\n",
       "Event name                      0\n",
       "Event distance km               0\n",
       "Event number of finishers       0\n",
       "Athlete performance             0\n",
       "Athlete country                 0\n",
       "Athlete gender                  0\n",
       "Athlete average speed           0\n",
       "Athlete ID                      0\n",
       "Athlete age                  5683\n",
       "dtype: int64"
      ]
     },
     "execution_count": 223,
     "metadata": {},
     "output_type": "execute_result"
    }
   ],
   "source": [
    "df_USA.isna().sum()"
   ]
  },
  {
   "cell_type": "code",
   "execution_count": null,
   "metadata": {},
   "outputs": [],
   "source": [
    "df_USA = df_USA.dropna(subset=None)"
   ]
  },
  {
   "cell_type": "code",
   "execution_count": null,
   "metadata": {},
   "outputs": [
    {
     "name": "stdout",
     "output_type": "stream",
     "text": [
      "Liczba zduplikowanych wierszy w nowej tabeli z maratończykami pochodzącymi z USA to:  0\n"
     ]
    }
   ],
   "source": [
    "print('Liczba zduplikowanych wierszy w nowej tabeli z maratończykami pochodzącymi z USA to: ',df_USA.duplicated().sum() )"
   ]
  },
  {
   "cell_type": "code",
   "execution_count": null,
   "metadata": {},
   "outputs": [],
   "source": [
    "#df_USA = df_USA.astype({'Athlete age': 'int64', 'Year of event': 'int64', 'Event number of finishers': 'int64'})"
   ]
  },
  {
   "cell_type": "code",
   "execution_count": null,
   "metadata": {},
   "outputs": [
    {
     "data": {
      "text/plain": [
       "<Axes: xlabel='Event distance km', ylabel='Count'>"
      ]
     },
     "execution_count": 235,
     "metadata": {},
     "output_type": "execute_result"
    },
    {
     "data": {
      "image/png": "[encoded data removed]",
      "text/plain": [
       "<Figure size 640x480 with 1 Axes>"
      ]
     },
     "metadata": {},
     "output_type": "display_data"
    }
   ],
   "source": [
    "sns.histplot(df_USA['Event distance km'], bins=5, edgecolor='black')\n"
   ]
  },
  {
   "cell_type": "code",
   "execution_count": null,
   "metadata": {},
   "outputs": [
    {
     "data": {
      "text/plain": [
       "<Axes: xlabel='Event distance km', ylabel='Count'>"
      ]
     },
     "execution_count": 236,
     "metadata": {},
     "output_type": "execute_result"
    },
    {
     "data": {
      "image/png": "[encoded data removed]",
      "text/plain": [
       "<Figure size 640x480 with 1 Axes>"
      ]
     },
     "metadata": {},
     "output_type": "display_data"
    }
   ],
   "source": [
    "sns.histplot(df_USA, x='Event distance km', hue = 'Athlete gender', edgecolor='black')"
   ]
  }
 ],
 "metadata": {
  "kernelspec": {
   "display_name": "Python 3",
   "language": "python",
   "name": "python3"
  },
  "language_info": {
   "codemirror_mode": {
    "name": "ipython",
    "version": 3
   },
   "file_extension": ".py",
   "mimetype": "text/x-python",
   "name": "python",
   "nbconvert_exporter": "python",
   "pygments_lexer": "ipython3",
   "version": "3.12.2"
  }
 },
 "nbformat": 4,
 "nbformat_minor": 2
}
